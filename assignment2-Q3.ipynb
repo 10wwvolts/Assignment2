{
 "cells": [
  {
   "cell_type": "code",
   "execution_count": 2,
   "metadata": {},
   "outputs": [
    {
     "data": {
      "text/plain": [
       "(ShapiroResult(statistic=0.9774001059705619, pvalue=0.9644239990409238),\n",
       " ShapiroResult(statistic=0.9138977395134427, pvalue=0.1553835727936188))"
      ]
     },
     "execution_count": 2,
     "metadata": {},
     "output_type": "execute_result"
    }
   ],
   "source": [
    "import numpy as np\n",
    "import pandas as pd\n",
    "from scipy.stats import shapiro\n",
    "\n",
    "Disc1 = np.array([55, 72, 26, 65, 104, 62, 89, 52, 76, 46, 100, 72, 35])\n",
    "Disc2 = np.array([71, 62, 37, 46, 36, 44, 63, 71, 49, 44, 41, 76, 55, 64, 41])\n",
    "Disc1_df = pd.DataFrame(Disc1)\n",
    "Disc2_df = pd.DataFrame(Disc2)\n",
    "\n",
    "\n",
    "shapiro_Disc1 = shapiro(Disc1)\n",
    "shapiro_Disc2 = shapiro(Disc2)\n",
    "\n",
    "shapiro_Disc1, shapiro_Disc2\n"
   ]
  }
 ],
 "metadata": {
  "kernelspec": {
   "display_name": "base",
   "language": "python",
   "name": "python3"
  },
  "language_info": {
   "codemirror_mode": {
    "name": "ipython",
    "version": 3
   },
   "file_extension": ".py",
   "mimetype": "text/x-python",
   "name": "python",
   "nbconvert_exporter": "python",
   "pygments_lexer": "ipython3",
   "version": "3.12.7"
  }
 },
 "nbformat": 4,
 "nbformat_minor": 2
}
